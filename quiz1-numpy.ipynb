{
 "cells": [
  {
   "cell_type": "markdown",
   "id": "fa66ebf5",
   "metadata": {},
   "source": [
    "# LECTURE 1.1 - Introduction to Numerical Computing Using Numpy\n",
    "\n",
    "***\n",
    "## Table of Contents\n",
    "* [Part 1](#part1)\n",
    "    * [Initialize y_hat and y](#initialize)\n",
    "    * [Creating Loss Value (L) Functions](#lossvalue)\n",
    "        Implementing the regression loss functions\n",
    "        * [Mean Squared Error (MSE)](#mse)\n",
    "        * [Mean Absolute Error (MAE)](#mae)\n",
    "        * [Mean Squared Logarithmic Error (MSLE)](#msle)\n",
    "        * [Mean Absolute Percentage Error (MAPE)](#mape)\n",
    "        \n",
    "* [Part 2](#part2)\n",
    "    * [Creating 1D array using *arange* function](#arange)\n",
    "    * [Reshaping M into 4x4 array](#arrn)\n",
    "    * [Getting the 2nd row of N](#2ndrow)\n",
    "    * [Getting the minimum value for each column of N](#minval)\n",
    "    * [Getting the locations of the minimum values for each column of N](#minloc)\n",
    "    * [Getting the average of the N matrix](#avgn)\n",
    "    * [Creating vector V with 4 elements, each element is 1](#vectorv)\n",
    "    * [Dot product of N and V](#dotproduct)"
   ]
  },
  {
   "cell_type": "markdown",
   "id": "fd3df30f",
   "metadata": {},
   "source": [
    "## Part 1 <a class=\"anchor\" id=\"part1\"></a>\n",
    "***"
   ]
  },
  {
   "cell_type": "markdown",
   "id": "d4b415e2",
   "metadata": {},
   "source": [
    "### Import the *numpy* library"
   ]
  },
  {
   "cell_type": "code",
   "execution_count": 1,
   "id": "ce17cceb",
   "metadata": {},
   "outputs": [],
   "source": [
    "import numpy as np"
   ]
  },
  {
   "cell_type": "markdown",
   "id": "504228db",
   "metadata": {},
   "source": [
    "### Initliazing *y_hat* and *y* with 20 linearly spaced numbers between -1 and 1, and 0 and 1, respectively <a class=\"anchor\" id=\"initialize\"></a>\n",
    "\n",
    "For this one we will use the `linspace()` function. We will also create the `1-D` arrays of both *y* and *y_hat* to be used later on the succeeding parts."
   ]
  },
  {
   "cell_type": "code",
   "execution_count": 2,
   "id": "cb735737",
   "metadata": {},
   "outputs": [],
   "source": [
    "num = 20\n",
    "\n",
    "# 20 linspace between 0 and 1\n",
    "y = np.linspace(0, 1, num)\n",
    "\n",
    "# 20 linspace between -1 and 1\n",
    "y_hat = np.linspace(-1, 1, num)"
   ]
  },
  {
   "cell_type": "markdown",
   "id": "89f22c13",
   "metadata": {},
   "source": [
    "### Computing for the *shape* and *dimension* of y_hat and y"
   ]
  },
  {
   "cell_type": "code",
   "execution_count": 3,
   "id": "fb901d36",
   "metadata": {},
   "outputs": [
    {
     "name": "stdout",
     "output_type": "stream",
     "text": [
      "(20,)\n",
      "(20,)\n",
      "float64\n",
      "float64\n"
     ]
    }
   ],
   "source": [
    "# Shape\n",
    "print(y_hat.shape)\n",
    "print(y.shape)\n",
    "\n",
    "# Dimension\n",
    "print(y_hat.dtype)\n",
    "print(y.dtype)"
   ]
  },
  {
   "cell_type": "markdown",
   "id": "98fdfdef",
   "metadata": {},
   "source": [
    "# Creating Loss Value (L) Functions <a class=\"anchor\" id=\"lossvalue\"></a>\n",
    "\n",
    "Each of the functions will return the loss value **L** with *y* and *y_hat* as parameters"
   ]
  },
  {
   "cell_type": "markdown",
   "id": "75d67a9c",
   "metadata": {},
   "source": [
    "### Mean Squared Error (MSE) <a class=\"anchor\" id=\"mse\"></a>"
   ]
  },
  {
   "cell_type": "code",
   "execution_count": 4,
   "id": "c3a13b21",
   "metadata": {},
   "outputs": [],
   "source": [
    "# MSE function\n",
    "def meanSqrdErr(arr1, arr2):\n",
    "    loss = np.mean(np.square(arr1 - arr2))\n",
    "    return loss"
   ]
  },
  {
   "cell_type": "code",
   "execution_count": 5,
   "id": "d64534cb",
   "metadata": {},
   "outputs": [
    {
     "data": {
      "text/plain": [
       "0.3421052631578948"
      ]
     },
     "execution_count": 5,
     "metadata": {},
     "output_type": "execute_result"
    }
   ],
   "source": [
    "meanSqrdErr(y, y_hat)"
   ]
  },
  {
   "cell_type": "markdown",
   "id": "761d94a0",
   "metadata": {},
   "source": [
    "### Mean Absolute Error (MAE) <a class=\"anchor\" id=\"mae\"></a>"
   ]
  },
  {
   "cell_type": "code",
   "execution_count": 6,
   "id": "02c42400",
   "metadata": {},
   "outputs": [],
   "source": [
    "# MAE function\n",
    "def meanAbsErr(arr1, arr2):\n",
    "    loss = np.mean(np.abs(arr1 - arr2))\n",
    "    return loss"
   ]
  },
  {
   "cell_type": "code",
   "execution_count": 7,
   "id": "d8a71dd2",
   "metadata": {},
   "outputs": [
    {
     "data": {
      "text/plain": [
       "0.4999999999999999"
      ]
     },
     "execution_count": 7,
     "metadata": {},
     "output_type": "execute_result"
    }
   ],
   "source": [
    "meanAbsErr(y, y_hat)"
   ]
  },
  {
   "cell_type": "markdown",
   "id": "81a1187c",
   "metadata": {},
   "source": [
    "### Mean Squared Logarithmic Error (MSLE) <a class=\"anchor\" id=\"msle\"></a>\n",
    "\n",
    "For MSLE, there is an occuring RuntimeWarning: divide by zero encountered with `inf` as the output. My workaround to this fix is to assign the -1 value of *y_hat* instead to -0.99 so that it will not be mathematically be zero when dividing."
   ]
  },
  {
   "cell_type": "code",
   "execution_count": 8,
   "id": "269b65ab",
   "metadata": {},
   "outputs": [],
   "source": [
    "# MSLE function\n",
    "def meanSqrdLogErr(arr1, arr2):\n",
    "    arr2[0] = -0.99\n",
    "    loss = np.mean(np.square(np.log1p(arr1) - np.log1p(arr2)))\n",
    "    return loss"
   ]
  },
  {
   "cell_type": "code",
   "execution_count": 9,
   "id": "1f79238a",
   "metadata": {},
   "outputs": [
    {
     "data": {
      "text/plain": [
       "1.7308773009244085"
      ]
     },
     "execution_count": 9,
     "metadata": {},
     "output_type": "execute_result"
    }
   ],
   "source": [
    "meanSqrdLogErr(y, y_hat)"
   ]
  },
  {
   "cell_type": "markdown",
   "id": "fcd0ab2b",
   "metadata": {},
   "source": [
    "### Mean Absolute Percentage Error (MAPE) <a class=\"anchor\" id=\"mape\"></a>\n",
    "\n",
    "Same with MSLE, MAPE is also encountering a RuntimeWarning in which a zero is encountered in true divide. A leeway for this fix is to assign the first index of *y* value to 0.01 as it is the nearest to 0."
   ]
  },
  {
   "cell_type": "code",
   "execution_count": 10,
   "id": "65f19446",
   "metadata": {},
   "outputs": [],
   "source": [
    "# MAPE function\n",
    "def meanAbsPrcntErr(arr1, arr2):\n",
    "    arr1[0] = 0.01\n",
    "    loss = np.mean(np.abs((arr1 - arr2) / arr1) * 0.100)\n",
    "    return loss"
   ]
  },
  {
   "cell_type": "code",
   "execution_count": 11,
   "id": "8e493929",
   "metadata": {},
   "outputs": [
    {
     "data": {
      "text/plain": [
       "0.7420352674286499"
      ]
     },
     "execution_count": 11,
     "metadata": {},
     "output_type": "execute_result"
    }
   ],
   "source": [
    "meanAbsPrcntErr(y, y_hat)"
   ]
  },
  {
   "cell_type": "markdown",
   "id": "8518aac9",
   "metadata": {},
   "source": [
    "\n",
    "## Part 2 <a class=\"anchor\" id=\"part2\"></a>\n",
    "***"
   ]
  },
  {
   "cell_type": "markdown",
   "id": "83b8fed9",
   "metadata": {},
   "source": [
    "### Creating 1D array using *arange* function <a class=\"anchor\" id=\"arange\"></a>"
   ]
  },
  {
   "cell_type": "code",
   "execution_count": 12,
   "id": "d20c3903",
   "metadata": {},
   "outputs": [],
   "source": [
    "M = np.arange(1, 17)"
   ]
  },
  {
   "cell_type": "markdown",
   "id": "4a3d8259",
   "metadata": {},
   "source": [
    "### Reshaping M into 4x4 array and store it into N <a class=\"anchor\" id=\"arrn\"></a>"
   ]
  },
  {
   "cell_type": "code",
   "execution_count": 13,
   "id": "0876ab2e",
   "metadata": {},
   "outputs": [
    {
     "data": {
      "text/plain": [
       "array([[ 1,  2,  3,  4],\n",
       "       [ 5,  6,  7,  8],\n",
       "       [ 9, 10, 11, 12],\n",
       "       [13, 14, 15, 16]])"
      ]
     },
     "execution_count": 13,
     "metadata": {},
     "output_type": "execute_result"
    }
   ],
   "source": [
    "N = np.reshape(M, (4,4))\n",
    "N"
   ]
  },
  {
   "cell_type": "markdown",
   "id": "db921e9e",
   "metadata": {},
   "source": [
    "### Getting the 2nd row of N <a class=\"anchor\" id=\"2ndrow\"></a>"
   ]
  },
  {
   "cell_type": "code",
   "execution_count": 14,
   "id": "7c0d1a12",
   "metadata": {},
   "outputs": [
    {
     "data": {
      "text/plain": [
       "array([5, 6, 7, 8])"
      ]
     },
     "execution_count": 14,
     "metadata": {},
     "output_type": "execute_result"
    }
   ],
   "source": [
    "secondRow = N[1]\n",
    "secondRow"
   ]
  },
  {
   "cell_type": "markdown",
   "id": "a3d2bd92",
   "metadata": {},
   "source": [
    "### Getting the minimum value for each column of N <a class=\"anchor\" id=\"minval\"></a>"
   ]
  },
  {
   "cell_type": "code",
   "execution_count": 15,
   "id": "6dbb4ad8",
   "metadata": {},
   "outputs": [
    {
     "data": {
      "text/plain": [
       "array([1, 2, 3, 4])"
      ]
     },
     "execution_count": 15,
     "metadata": {},
     "output_type": "execute_result"
    }
   ],
   "source": [
    "minVal = np.min(N, axis=0)\n",
    "minVal"
   ]
  },
  {
   "cell_type": "markdown",
   "id": "34f34598",
   "metadata": {},
   "source": [
    "### Getting the locations of the minimum values for each column of N <a class=\"anchor\" id=\"minloc\"></a>"
   ]
  },
  {
   "cell_type": "code",
   "execution_count": 16,
   "id": "f5c15a10",
   "metadata": {},
   "outputs": [
    {
     "data": {
      "text/plain": [
       "array([0, 0, 0, 0])"
      ]
     },
     "execution_count": 16,
     "metadata": {},
     "output_type": "execute_result"
    }
   ],
   "source": [
    "minLoc = np.argmin(N, axis=0)\n",
    "minLoc"
   ]
  },
  {
   "cell_type": "markdown",
   "id": "afa98f3f",
   "metadata": {},
   "source": [
    "### Getting the average of the N matrix <a class=\"anchor\" id=\"avgn\"></a>"
   ]
  },
  {
   "cell_type": "code",
   "execution_count": 17,
   "id": "443c0316",
   "metadata": {},
   "outputs": [
    {
     "data": {
      "text/plain": [
       "8.5"
      ]
     },
     "execution_count": 17,
     "metadata": {},
     "output_type": "execute_result"
    }
   ],
   "source": [
    "avgN = np.mean(N)\n",
    "avgN"
   ]
  },
  {
   "cell_type": "markdown",
   "id": "c327faaa",
   "metadata": {},
   "source": [
    "### Creating vector V with 4 elements, each element is 1 <a class=\"anchor\" id=\"vectorv\"></a>"
   ]
  },
  {
   "cell_type": "code",
   "execution_count": 18,
   "id": "13984683",
   "metadata": {},
   "outputs": [
    {
     "data": {
      "text/plain": [
       "array([1, 1, 1, 1], dtype=int32)"
      ]
     },
     "execution_count": 18,
     "metadata": {},
     "output_type": "execute_result"
    }
   ],
   "source": [
    "V = np.ones(4, dtype='int32')\n",
    "V"
   ]
  },
  {
   "cell_type": "markdown",
   "id": "0f261cf2",
   "metadata": {},
   "source": [
    "### Dot product of N and V <a class=\"anchor\" id=\"dotproduct\"></a>"
   ]
  },
  {
   "cell_type": "code",
   "execution_count": 19,
   "id": "01e3cced",
   "metadata": {},
   "outputs": [
    {
     "data": {
      "text/plain": [
       "array([10, 26, 42, 58])"
      ]
     },
     "execution_count": 19,
     "metadata": {},
     "output_type": "execute_result"
    }
   ],
   "source": [
    "dotProduct = np.dot(N, V)\n",
    "dotProduct"
   ]
  }
 ],
 "metadata": {
  "celltoolbar": "Raw Cell Format",
  "kernelspec": {
   "display_name": "Python 3 (ipykernel)",
   "language": "python",
   "name": "python3"
  },
  "language_info": {
   "codemirror_mode": {
    "name": "ipython",
    "version": 3
   },
   "file_extension": ".py",
   "mimetype": "text/x-python",
   "name": "python",
   "nbconvert_exporter": "python",
   "pygments_lexer": "ipython3",
   "version": "3.9.12"
  }
 },
 "nbformat": 4,
 "nbformat_minor": 5
}
